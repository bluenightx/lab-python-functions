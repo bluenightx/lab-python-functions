{
 "cells": [
  {
   "cell_type": "markdown",
   "id": "25d7736c-ba17-4aff-b6bb-66eba20fbf4e",
   "metadata": {},
   "source": [
    "# Lab | Functions"
   ]
  },
  {
   "cell_type": "markdown",
   "id": "0c581062-8967-4d93-b06e-62833222f930",
   "metadata": {
    "tags": []
   },
   "source": [
    "## Exercise: Managing Customer Orders with Functions\n",
    "\n",
    "In the previous exercise, you improved the code for managing customer orders by using loops and flow control. Now, let's take it a step further and refactor the code by introducing functions.\n",
    "\n",
    "Follow the steps below to complete the exercise:\n",
    "\n",
    "1. Define a function named `initialize_inventory` that takes `products` as a parameter. Inside the function, implement the code for initializing the inventory dictionary using a loop and user input.\n",
    "\n",
    "2. Define a function named `get_customer_orders` that takes no parameters. Inside the function, implement the code for prompting the user to enter the product names using a loop. The function should return the `customer_orders` set.\n",
    "\n",
    "3. Define a function named `update_inventory` that takes `customer_orders` and `inventory` as parameters. Inside the function, implement the code for updating the inventory dictionary based on the customer orders.\n",
    "\n",
    "4. Define a function named `calculate_order_statistics` that takes `customer_orders` and `products` as parameters. Inside the function, implement the code for calculating the order statistics (total products ordered, and percentage of unique products ordered). The function should return these values.\n",
    "\n",
    "5. Define a function named `print_order_statistics` that takes `order_statistics` as a parameter. Inside the function, implement the code for printing the order statistics.\n",
    "\n",
    "6. Define a function named `print_updated_inventory` that takes `inventory` as a parameter. Inside the function, implement the code for printing the updated inventory.\n",
    "\n",
    "7. Call the functions in the appropriate sequence to execute the program and manage customer orders.\n",
    "\n",
    "Hints for functions:\n",
    "\n",
    "- Consider the input parameters required for each function and their return values.\n",
    "- Utilize function parameters and return values to transfer data between functions.\n",
    "- Test your functions individually to ensure they work correctly.\n",
    "\n",
    "\n"
   ]
  },
  {
   "cell_type": "code",
   "execution_count": 2,
   "id": "cb5d073f-0688-482b-bcce-96749a30fa23",
   "metadata": {},
   "outputs": [],
   "source": [
    "products = [\"t-shirt\", \"mug\", \"hat\", \"book\", \"keychain\"]"
   ]
  },
  {
   "cell_type": "code",
   "execution_count": 10,
   "id": "9fbad8de-9491-4c81-9c4e-61754c57bb57",
   "metadata": {},
   "outputs": [
    {
     "name": "stdin",
     "output_type": "stream",
     "text": [
      "Please insert a quantity of the t-shirt:  6\n",
      "Please insert a quantity of the mug:  4\n",
      "Please insert a quantity of the hat:  8\n",
      "Please insert a quantity of the book:  9\n",
      "Please insert a quantity of the keychain:  4\n"
     ]
    },
    {
     "name": "stdout",
     "output_type": "stream",
     "text": [
      "{'t-shirt': 6, 'mug': 4, 'hat': 8, 'book': 9, 'keychain': 4}\n"
     ]
    }
   ],
   "source": [
    "def initialize_inventory(products):  #1\n",
    "    inventory = {}\n",
    "    for product in products:\n",
    "        inventory_input = int(input(f'Please insert a quantity of the {product}: '))\n",
    "        inventory[product] = inventory_input\n",
    "    return inventory \n",
    "inventory = initialize_inventory(products)\n",
    "print(inventory)"
   ]
  },
  {
   "cell_type": "code",
   "execution_count": 12,
   "id": "9a3d82c9-7cf4-47b1-b5a3-cea7369bd337",
   "metadata": {},
   "outputs": [
    {
     "name": "stdin",
     "output_type": "stream",
     "text": [
      "Insert the name of the product:  book\n",
      "Do you want to add another product (yes/no)?  yes\n",
      "Insert the name of the product:  mug\n",
      "Do you want to add another product (yes/no)?  yes\n",
      "Insert the name of the product:  hat\n",
      "Do you want to add another product (yes/no)?  no\n"
     ]
    },
    {
     "name": "stdout",
     "output_type": "stream",
     "text": [
      "Your order is completed. Thank you.\n",
      "{'book', 'hat', 'mug'}\n"
     ]
    }
   ],
   "source": [
    "def get_customer_orders(products):  #2\n",
    "    customer_orders = set()\n",
    "    \n",
    "    while True:\n",
    "        order = input(\"Insert the name of the product: \").lower()\n",
    "        \n",
    "        if order in products:\n",
    "            customer_orders.add(order)\n",
    "            another_order = input(\"Do you want to add another product (yes/no)? \").lower()\n",
    "            if another_order == 'no':\n",
    "                break\n",
    "        else:\n",
    "            print(\"Invalid entry. Try again.\")\n",
    "    \n",
    "    print(\"Your order is completed. Thank you.\")\n",
    "    return customer_orders\n",
    "customer_orders = get_customer_orders(products)\n",
    "print(customer_orders)"
   ]
  },
  {
   "cell_type": "code",
   "execution_count": 18,
   "id": "930329da-9e84-4ead-aad5-604c194bde00",
   "metadata": {},
   "outputs": [],
   "source": [
    "def update_inventory(inventory, customer_orders):  #3\n",
    "    for order in customer_orders:\n",
    "        if order in inventory:\n",
    "            inventory[order] -= 1\n",
    "            if inventory[order] < 0:\n",
    "                print(f\"Sorry, we are out of {order}.\")\n",
    "                inventory[order] = 0\n",
    "        else:\n",
    "            print(f\"{order} is not available.\")\n",
    "    return inventory"
   ]
  },
  {
   "cell_type": "code",
   "execution_count": 20,
   "id": "9fddc455-182f-4937-bb03-4af504b35039",
   "metadata": {},
   "outputs": [
    {
     "name": "stdout",
     "output_type": "stream",
     "text": [
      "Updated inventory:\n",
      "t-shirt: 6\n",
      "mug: 4\n",
      "hat: 8\n",
      "book: 9\n",
      "keychain: 4\n",
      "None\n"
     ]
    }
   ],
   "source": [
    "def print_updated_inventory(inventory):  #6\n",
    "    print(\"Updated inventory:\")\n",
    "    for product, quantity in inventory.items():\n",
    "        print(f\"{product}: {quantity}\")\n",
    "print(print_updated_inventory(inventory))\n"
   ]
  },
  {
   "cell_type": "code",
   "execution_count": 22,
   "id": "7199bb1d-3302-48b0-bfad-d352ad760a7d",
   "metadata": {},
   "outputs": [],
   "source": [
    "def calculate_order_statistics(customer_orders, products): #4\n",
    "    total_products_ordered = len(customer_orders)\n",
    "    total_available_products = len(products)\n",
    "\n",
    "    if total_available_products == 0:\n",
    "        percentage_ordered = 0.0\n",
    "    else:\n",
    "        percentage_ordered = (total_products_ordered / total_available_products) * 100\n",
    "\n",
    "    return total_products_ordered, percentage_ordered"
   ]
  },
  {
   "cell_type": "code",
   "execution_count": 24,
   "id": "0eb991c8-4db9-49e2-9883-0ba658e583d7",
   "metadata": {},
   "outputs": [
    {
     "name": "stdout",
     "output_type": "stream",
     "text": [
      "Total products ordered: 3\n",
      "Percentage of products ordered: 60.00%\n"
     ]
    }
   ],
   "source": [
    "def print_order_statistics(order_statistics):  # 5\n",
    "    total_products_ordered, percentage_ordered = order_statistics\n",
    "    print(f\"Total products ordered: {total_products_ordered}\")\n",
    "    print(f\"Percentage of products ordered: {percentage_ordered:.2f}%\")\n",
    "\n",
    "print_order_statistics(calculate_order_statistics(customer_orders, products))\n"
   ]
  },
  {
   "cell_type": "code",
   "execution_count": null,
   "id": "307ebc9c-0f6c-472d-a540-98adf4c70109",
   "metadata": {},
   "outputs": [],
   "source": []
  },
  {
   "cell_type": "code",
   "execution_count": null,
   "id": "2a5ffd71-68cf-4024-a05b-e9a79cfb6aa2",
   "metadata": {},
   "outputs": [],
   "source": []
  }
 ],
 "metadata": {
  "kernelspec": {
   "display_name": "Python [conda env:base] *",
   "language": "python",
   "name": "conda-base-py"
  },
  "language_info": {
   "codemirror_mode": {
    "name": "ipython",
    "version": 3
   },
   "file_extension": ".py",
   "mimetype": "text/x-python",
   "name": "python",
   "nbconvert_exporter": "python",
   "pygments_lexer": "ipython3",
   "version": "3.12.7"
  }
 },
 "nbformat": 4,
 "nbformat_minor": 5
}
